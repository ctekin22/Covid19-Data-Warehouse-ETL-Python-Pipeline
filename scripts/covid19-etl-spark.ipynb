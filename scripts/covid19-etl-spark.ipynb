{
 "cells": [
  {
   "cell_type": "code",
   "execution_count": 0,
   "metadata": {
    "application/vnd.databricks.v1+cell": {
     "cellMetadata": {
      "byteLimit": 2048000,
      "rowLimit": 10000
     },
     "inputWidgets": {},
     "nuid": "9e538805-9c8b-4989-bd77-929e5138d479",
     "showTitle": false,
     "tableResultSettingsMap": {},
     "title": ""
    }
   },
   "outputs": [
    {
     "output_type": "stream",
     "name": "stdout",
     "output_type": "stream",
     "text": [
      "3.11.10 (main, Sep  7 2024, 18:35:41) [GCC 11.4.0]\n"
     ]
    }
   ],
   "source": [
    "from pyspark.sql.types import StructureField, StructureType, IntegerType, StringType, BooleanType, DataType, DecimalType\n",
    "\n",
    "from pyspark.sql.functions import col, to_date, year, month, dayofweek \n",
    "\n",
    "import sys, platform; print(sys.version)"
   ]
  },
  {
   "cell_type": "code",
   "execution_count": 0,
   "metadata": {
    "application/vnd.databricks.v1+cell": {
     "cellMetadata": {
      "byteLimit": 2048000,
      "rowLimit": 10000
     },
     "inputWidgets": {},
     "nuid": "331bce6d-57e5-4ffa-a17e-ece965bb30a1",
     "showTitle": false,
     "tableResultSettingsMap": {},
     "title": ""
    }
   },
   "outputs": [],
   "source": [
    "# Defaul spark session value, we will create ours\n",
    "# spark\n",
    "\n",
    "from pyspark.sql import SparkSession\n",
    "spark = SparkSession.builder.appName(\"Covid19\").getOrCreate()\n"
   ]
  },
  {
   "cell_type": "markdown",
   "metadata": {
    "application/vnd.databricks.v1+cell": {
     "cellMetadata": {},
     "inputWidgets": {},
     "nuid": "4e0d6a32-6309-4c2b-8b95-af69b048a923",
     "showTitle": false,
     "tableResultSettingsMap": {},
     "title": ""
    }
   },
   "source": [
    "## READ FILES FROM S3 - EXTRACT"
   ]
  },
  {
   "cell_type": "markdown",
   "metadata": {
    "application/vnd.databricks.v1+cell": {
     "cellMetadata": {},
     "inputWidgets": {},
     "nuid": "de3d03e2-dbb9-407e-8a74-c71d76b2e5bc",
     "showTitle": false,
     "tableResultSettingsMap": {},
     "title": ""
    }
   },
   "source": [
    "Files:\n",
    "-   Enigma-JHU.csv\n",
    "-   countrycode.csv\n",
    "-   CountyPopulation.csv\n",
    "-   usa-hospital-beds.jsonl\n",
    "-   state-abv.csv\n",
    "-   us_daily.csv\n",
    "-   us_county.csv\n",
    "-   states_daily.csv\n",
    "-   us_states.csv\n",
    "\n"
   ]
  },
  {
   "cell_type": "code",
   "execution_count": 0,
   "metadata": {
    "application/vnd.databricks.v1+cell": {
     "cellMetadata": {
      "byteLimit": 2048000,
      "rowLimit": 10000
     },
     "inputWidgets": {},
     "nuid": "cc805cc3-c442-4cab-ae9f-fb7fdfbdfd03",
     "showTitle": false,
     "tableResultSettingsMap": {},
     "title": ""
    }
   },
   "outputs": [
    {
     "output_type": "display_data",
     "data": {
      "text/html": [
       "<style scoped>\n",
       "  .table-result-container {\n",
       "    max-height: 300px;\n",
       "    overflow: auto;\n",
       "  }\n",
       "  table, th, td {\n",
       "    border: 1px solid black;\n",
       "    border-collapse: collapse;\n",
       "  }\n",
       "  th, td {\n",
       "    padding: 5px;\n",
       "  }\n",
       "  th {\n",
       "    text-align: left;\n",
       "  }\n",
       "</style><div class='table-result-container'><table class='table-result'><thead style='background-color: white'><tr><th>fips</th><th>admin2</th><th>province_state</th><th>country_region</th><th>last_update</th><th>latitude</th><th>longitude</th><th>confirmed</th><th>deaths</th><th>recovered</th><th>active</th><th>combined_key</th></tr></thead><tbody><tr><td>null</td><td>null</td><td>Anhui</td><td>China</td><td>2020-01-22T17:00:00.000Z</td><td>31.826</td><td>117.226</td><td>1</td><td>null</td><td>null</td><td>null</td><td>Anhui, China</td></tr><tr><td>null</td><td>null</td><td>Beijing</td><td>China</td><td>2020-01-22T17:00:00.000Z</td><td>40.182</td><td>116.414</td><td>14</td><td>null</td><td>null</td><td>null</td><td>Beijing, China</td></tr><tr><td>null</td><td>null</td><td>Chongqing</td><td>China</td><td>2020-01-22T17:00:00.000Z</td><td>30.057</td><td>107.874</td><td>6</td><td>null</td><td>null</td><td>null</td><td>Chongqing, China</td></tr><tr><td>null</td><td>null</td><td>Fujian</td><td>China</td><td>2020-01-22T17:00:00.000Z</td><td>26.079</td><td>117.987</td><td>1</td><td>null</td><td>null</td><td>null</td><td>Fujian, China</td></tr><tr><td>null</td><td>null</td><td>Gansu</td><td>China</td><td>2020-01-22T17:00:00.000Z</td><td>36.061</td><td>103.834</td><td>null</td><td>null</td><td>null</td><td>null</td><td>Gansu, China</td></tr></tbody></table></div>"
      ]
     },
     "metadata": {
      "application/vnd.databricks.v1+output": {
       "addedWidgets": {},
       "aggData": [],
       "aggError": "",
       "aggOverflow": false,
       "aggSchema": [],
       "aggSeriesLimitReached": false,
       "aggType": "",
       "arguments": {},
       "columnCustomDisplayInfos": {},
       "data": [
        [
         null,
         null,
         "Anhui",
         "China",
         "2020-01-22T17:00:00.000Z",
         31.826,
         117.226,
         1,
         null,
         null,
         null,
         "Anhui, China"
        ],
        [
         null,
         null,
         "Beijing",
         "China",
         "2020-01-22T17:00:00.000Z",
         40.182,
         116.414,
         14,
         null,
         null,
         null,
         "Beijing, China"
        ],
        [
         null,
         null,
         "Chongqing",
         "China",
         "2020-01-22T17:00:00.000Z",
         30.057,
         107.874,
         6,
         null,
         null,
         null,
         "Chongqing, China"
        ],
        [
         null,
         null,
         "Fujian",
         "China",
         "2020-01-22T17:00:00.000Z",
         26.079,
         117.987,
         1,
         null,
         null,
         null,
         "Fujian, China"
        ],
        [
         null,
         null,
         "Gansu",
         "China",
         "2020-01-22T17:00:00.000Z",
         36.061,
         103.834,
         null,
         null,
         null,
         null,
         "Gansu, China"
        ]
       ],
       "datasetInfos": [],
       "dbfsResultPath": null,
       "isJsonSchema": true,
       "metadata": {},
       "overflow": false,
       "plotOptions": {
        "customPlotOptions": {},
        "displayType": "table",
        "pivotAggregation": null,
        "pivotColumns": null,
        "xColumns": null,
        "yColumns": null
       },
       "removedWidgets": [],
       "schema": [
        {
         "metadata": "{}",
         "name": "fips",
         "type": "\"long\""
        },
        {
         "metadata": "{}",
         "name": "admin2",
         "type": "\"string\""
        },
        {
         "metadata": "{}",
         "name": "province_state",
         "type": "\"string\""
        },
        {
         "metadata": "{}",
         "name": "country_region",
         "type": "\"string\""
        },
        {
         "metadata": "{}",
         "name": "last_update",
         "type": "\"timestamp\""
        },
        {
         "metadata": "{}",
         "name": "latitude",
         "type": "\"double\""
        },
        {
         "metadata": "{}",
         "name": "longitude",
         "type": "\"double\""
        },
        {
         "metadata": "{}",
         "name": "confirmed",
         "type": "\"long\""
        },
        {
         "metadata": "{}",
         "name": "deaths",
         "type": "\"long\""
        },
        {
         "metadata": "{}",
         "name": "recovered",
         "type": "\"long\""
        },
        {
         "metadata": "{}",
         "name": "active",
         "type": "\"long\""
        },
        {
         "metadata": "{}",
         "name": "combined_key",
         "type": "\"string\""
        }
       ],
       "type": "table"
      }
     },
     "output_type": "display_data"
    }
   ],
   "source": [
    "\n",
    "enigma_jhu_df = spark.read.format(\"csv\").option(\"header\", True).load(\"s3://covid19-spark-databricks/Enigma-JHU.csv\")\n",
    "\n",
    "# enigma_jhu_df = spark.table(\"workspace.covid19.enigma_jhu\")\n",
    "# display(enigma_jhu_df.limit(5))\n",
    "\n"
   ]
  },
  {
   "cell_type": "code",
   "execution_count": 0,
   "metadata": {
    "application/vnd.databricks.v1+cell": {
     "cellMetadata": {
      "byteLimit": 2048000,
      "rowLimit": 10000
     },
     "inputWidgets": {},
     "nuid": "e9e605a7-4115-45d6-af5e-e23313ba8577",
     "showTitle": false,
     "tableResultSettingsMap": {},
     "title": ""
    }
   },
   "outputs": [],
   "source": [
    "countrycode_df = spark.read.format(\"csv\").option(\"header\", True).load(\"s3://covid19-spark-databricks/countrycode.csv\")\n",
    "\n",
    "countypopulation_df = spark.read.format(\"csv\").option(\"header\", True).load(\"s3://covid19-spark-databricks/CountyPopulation.csv\")\n",
    "\n",
    "hospital_beds_df = spark.read.format(\"json\").option(\"header\", True).load(\"s3://covid19-spark-databricks/usa-hospital-beds.jsonl\")\n",
    "\n",
    "state_abv_df = spark.read.format(\"csv\").option(\"header\", True).load(\"s3://covid19-spark-databricks/state-abv.csv\")\n",
    "\n",
    "states_daily_df = spark.read.format(\"csv\").option(\"header\", True).load(\"s3://covid19-spark-databricks/us_daily.csv\")\n",
    "\n",
    "us_county_df = spark.read.format(\"csv\").option(\"header\", True).load(\"s3://covid19-spark-databricks/us_county.csv\")\n",
    "\n",
    "us_daily_df = spark.read.format(\"csv\").option(\"header\", True).load(\"s3://covid19-spark-databricks/states_daily.csv\")\n",
    "\n",
    "us_states_df = spark.read.format(\"csv\").option(\"header\", True).load(\"s3://covid19-spark-databricks/us_states.csv\")\n",
    "\n"
   ]
  },
  {
   "cell_type": "markdown",
   "metadata": {
    "application/vnd.databricks.v1+cell": {
     "cellMetadata": {},
     "inputWidgets": {},
     "nuid": "8df3a8e8-0e50-4e4d-9de1-d251b7d212a6",
     "showTitle": false,
     "tableResultSettingsMap": {},
     "title": ""
    }
   },
   "source": [
    "## ETL job - Transformation, creatind fact and dim tables "
   ]
  },
  {
   "cell_type": "markdown",
   "metadata": {
    "application/vnd.databricks.v1+cell": {
     "cellMetadata": {},
     "inputWidgets": {},
     "nuid": "4b745620-dbdc-48fb-8f0f-73ce646f750d",
     "showTitle": false,
     "tableResultSettingsMap": {},
     "title": ""
    }
   },
   "source": [
    "### factCovid"
   ]
  },
  {
   "cell_type": "code",
   "execution_count": 0,
   "metadata": {
    "application/vnd.databricks.v1+cell": {
     "cellMetadata": {},
     "inputWidgets": {},
     "nuid": "482cdfdb-2579-42d9-825e-366d7cab6f29",
     "showTitle": false,
     "tableResultSettingsMap": {},
     "title": ""
    }
   },
   "outputs": [],
   "source": [
    "factCovid_1 = enigma_jhud_df.select(\n",
    "    'fips', 'province_state', 'country_region', 'confirmed', 'deaths', 'recovered', 'active'\n",
    ")\n",
    "\n",
    "factCovid_2 = states_daily_df.select(\n",
    "    'fips', 'date', 'positive', 'negative', \n",
    "    'hospitalizedcurrently', 'hospitalized', 'hospitalizeddischarged'\n",
    ")\n",
    "\n",
    "factCovid = factCovid_1.join(factCovid_2, on='fips', how='inner')\n",
    "# factCovid.show()\n"
   ]
  },
  {
   "cell_type": "markdown",
   "metadata": {
    "application/vnd.databricks.v1+cell": {
     "cellMetadata": {},
     "inputWidgets": {},
     "nuid": "6b387619-fb6a-43f1-9152-ab626a52217f",
     "showTitle": false,
     "tableResultSettingsMap": {},
     "title": ""
    }
   },
   "source": [
    "### dimRegion"
   ]
  },
  {
   "cell_type": "code",
   "execution_count": 0,
   "metadata": {
    "application/vnd.databricks.v1+cell": {
     "cellMetadata": {},
     "inputWidgets": {},
     "nuid": "5d929058-dae9-405d-b362-9615f8fd4de4",
     "showTitle": false,
     "tableResultSettingsMap": {},
     "title": ""
    }
   },
   "outputs": [],
   "source": [
    "dimRegion_1 = enigma_jhud_df.select(\n",
    "    'fips', 'province_state', 'country_region', 'latitude', 'longitude'\n",
    ")\n",
    "\n",
    "dimRegion_2 = us_county_df.select(\n",
    "    'fips', 'county', 'state'\n",
    ")\n",
    "\n",
    "dimRegion = dimRegion_1.join(dimRegion_2, on='fips', how='inner')\n",
    "# dimRegion.show()"
   ]
  },
  {
   "cell_type": "markdown",
   "metadata": {
    "application/vnd.databricks.v1+cell": {
     "cellMetadata": {},
     "inputWidgets": {},
     "nuid": "9172aa63-6346-4581-a996-0bf25814da36",
     "showTitle": false,
     "tableResultSettingsMap": {},
     "title": ""
    }
   },
   "source": [
    "### dimHospital"
   ]
  },
  {
   "cell_type": "code",
   "execution_count": 0,
   "metadata": {
    "application/vnd.databricks.v1+cell": {
     "cellMetadata": {},
     "inputWidgets": {},
     "nuid": "646664d7-3983-4905-ae03-e4b03ede7e3a",
     "showTitle": false,
     "tableResultSettingsMap": {},
     "title": ""
    }
   },
   "outputs": [],
   "source": [
    "dimHospital = hospital_beds_df.select(\n",
    "    'fips', 'state_name', 'latitude', 'longtitude', 'hq_address', \n",
    "    'hospital_name', 'hospital_type', 'hq_city', 'hq_state'\n",
    ")\n",
    "# dimHospital.show()"
   ]
  },
  {
   "cell_type": "markdown",
   "metadata": {
    "application/vnd.databricks.v1+cell": {
     "cellMetadata": {},
     "inputWidgets": {},
     "nuid": "671b8292-9956-4dbd-aa4a-5d2789c010b2",
     "showTitle": false,
     "tableResultSettingsMap": {},
     "title": ""
    }
   },
   "source": [
    "### dimDate"
   ]
  },
  {
   "cell_type": "code",
   "execution_count": 0,
   "metadata": {
    "application/vnd.databricks.v1+cell": {
     "cellMetadata": {},
     "inputWidgets": {},
     "nuid": "546c437b-13d2-4b23-aa3d-09e2c8d083d8",
     "showTitle": false,
     "tableResultSettingsMap": {},
     "title": ""
    }
   },
   "outputs": [],
   "source": [
    "dimDate = states_daily_df.select('fips', 'date') \\\n",
    "    .withColumn(\"date\", to_date(col(\"date\").cast(\"string\"), \"yyyyMMdd\")) \\\n",
    "    .withColumn(\"year\", year(\"date\")) \\\n",
    "    .withColumn(\"month\", month(\"date\")) \\\n",
    "    .withColumn(\"day_of_week\", dayofweek(\"date\"))\n",
    "# dimDate.show()"
   ]
  }
 ],
 "metadata": {
  "application/vnd.databricks.v1+notebook": {
   "computePreferences": {
    "hardware": {
     "accelerator": null,
     "gpuPoolId": null,
     "memory": null
    }
   },
   "dashboards": [],
   "environmentMetadata": {
    "base_environment": "",
    "environment_version": "2"
   },
   "inputWidgetPreferences": null,
   "language": "python",
   "notebookMetadata": {
    "pythonIndentUnit": 4
   },
   "notebookName": "covid19-etl-spark",
   "widgets": {}
  },
  "language_info": {
   "name": "python"
  }
 },
 "nbformat": 4,
 "nbformat_minor": 0
}